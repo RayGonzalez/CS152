{
 "cells": [
  {
   "cell_type": "code",
   "execution_count": 12,
   "metadata": {
    "collapsed": true
   },
   "outputs": [],
   "source": [
    "class DefiniteClause:   \n",
    "    def __init__(self, head, body = []):\n",
    "        \"\"\"\n",
    "        Body is a conjunction of symbols\n",
    "        Head is a symbol entailed by the body\n",
    "        A literal(symbol) is a definite clause with empty body\n",
    "        \"\"\"\n",
    "        self.body = body\n",
    "        self.head = head      "
   ]
  },
  {
   "cell_type": "code",
   "execution_count": 13,
   "metadata": {
    "collapsed": false
   },
   "outputs": [],
   "source": [
    "def ForwardChaining(KB, q):\n",
    "\n",
    "    \"\"\"\n",
    "    Use forward chaining to determine whether a query q is entailed by the KB\n",
    "    q --> symbol \n",
    "    KB --> knowledge base as a list of definite clauses\n",
    "    \"\"\"\n",
    "    agenda = [clause.head for clause in KB if len(clause.body) == 0]\n",
    "    count = [len(clause.body) for clause in KB]\n",
    "    inferred = {symbol: False for symbol in set([sym for clause in KB for sym in clause.body] \n",
    "                    + [clause.head for clause in KB])}\n",
    "    \n",
    "    while agenda:\n",
    "        p = agenda.pop()\n",
    "        if p == q: return True \n",
    "        if inferred[p] == False: \n",
    "            inferred[p] = True            \n",
    "            for i, clause in enumerate(KB):\n",
    "                if p in clause.body: \n",
    "                    count[i] -= 1\n",
    "                    if count[i] == 0: agenda.append(clause.head)                    \n",
    "    return False    \n",
    "\n",
    "    "
   ]
  },
  {
   "cell_type": "code",
   "execution_count": 14,
   "metadata": {
    "collapsed": false
   },
   "outputs": [
    {
     "name": "stdout",
     "output_type": "stream",
     "text": [
      "True\n"
     ]
    }
   ],
   "source": [
    "KB = [DefiniteClause(\"Q\", [\"P\"]),\n",
    "      DefiniteClause(\"P\", [\"L\", \"M\"]),\n",
    "      DefiniteClause(\"M\", [\"B\", \"L\"]),\n",
    "      DefiniteClause(\"L\", [\"A\", \"P\"]),\n",
    "      DefiniteClause(\"L\", [\"A\", \"B\"]),\n",
    "      DefiniteClause(\"A\"),\n",
    "      DefiniteClause(\"B\")]\n",
    "\n",
    "print(ForwardChaining(KB, \"Q\"))"
   ]
  },
  {
   "cell_type": "code",
   "execution_count": 15,
   "metadata": {
    "collapsed": false
   },
   "outputs": [
    {
     "ename": "NameError",
     "evalue": "name 'DefaultDict' is not defined",
     "output_type": "error",
     "traceback": [
      "\u001b[0;31m---------------------------------------------------------------------------\u001b[0m",
      "\u001b[0;31mNameError\u001b[0m                                 Traceback (most recent call last)",
      "\u001b[0;32m<ipython-input-15-114befae49e5>\u001b[0m in \u001b[0;36m<module>\u001b[0;34m()\u001b[0m\n\u001b[0;32m----> 1\u001b[0;31m \u001b[0mDefaultDict\u001b[0m\u001b[0;34m(\u001b[0m\u001b[0mFalse\u001b[0m\u001b[0;34m)\u001b[0m\u001b[0;34m\u001b[0m\u001b[0m\n\u001b[0m",
      "\u001b[0;31mNameError\u001b[0m: name 'DefaultDict' is not defined"
     ]
    }
   ],
   "source": [
    "DefaultDict(False)"
   ]
  },
  {
   "cell_type": "code",
   "execution_count": null,
   "metadata": {
    "collapsed": true
   },
   "outputs": [],
   "source": []
  }
 ],
 "metadata": {
  "kernelspec": {
   "display_name": "Python 2",
   "language": "python",
   "name": "python2"
  },
  "language_info": {
   "codemirror_mode": {
    "name": "ipython",
    "version": 2
   },
   "file_extension": ".py",
   "mimetype": "text/x-python",
   "name": "python",
   "nbconvert_exporter": "python",
   "pygments_lexer": "ipython2",
   "version": "2.7.10"
  }
 },
 "nbformat": 4,
 "nbformat_minor": 1
}
