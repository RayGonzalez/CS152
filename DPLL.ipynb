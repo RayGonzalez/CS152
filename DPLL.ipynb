{
 "cells": [
  {
   "cell_type": "code",
   "execution_count": 120,
   "metadata": {
    "collapsed": false
   },
   "outputs": [],
   "source": [
    "from copy import deepcopy\n",
    "from operator import itemgetter\n",
    "\n",
    "class Literal:\n",
    "    \n",
    "    def __init__(self, name, sign = True):\n",
    "        self.name = name\n",
    "        self.sign = sign\n",
    "    \n",
    "    #symbols to be compared just by name:\n",
    "    def __eq__(self, other):\n",
    "        return other.name == self.name\n",
    "    \n",
    "    def __neg__(self):\n",
    "        neg = Literal(self.name, sign = not self.sign)\n",
    "        return neg\n",
    "    \n",
    "    #make the class a hashable type\n",
    "    def __hash__(self):\n",
    "        return hash(self.name)\n",
    "    \n",
    "    def __str__(self):       \n",
    "        if self.sign: return self.name            \n",
    "        return \"-\" + self.name"
   ]
  },
  {
   "cell_type": "code",
   "execution_count": 121,
   "metadata": {
    "collapsed": false
   },
   "outputs": [],
   "source": [
    "sat_model = {}\n",
    "Sat = Literal(\"satisfied\")\n",
    "\n",
    "def DPLL(clauses, symbols, model):\n",
    "    \n",
    "    for clause in clauses:\n",
    "        # store symbols we can remove from clause\n",
    "        remove = set()\n",
    "        for literal in clause:\n",
    "            if literal.name in model:\n",
    "                # Literal in model with same sign as in clause?                \n",
    "                if literal.sign == model[literal.name] : \n",
    "                    clause.add(Sat)                    \n",
    "                    break\n",
    "                # are there other literals to be tried\n",
    "                elif len(clause) > 1:\n",
    "                    remove.add(literal)\n",
    "                # no more literals in clause, clause not satisfied\n",
    "                else:\n",
    "                    return False\n",
    "        # remove every \"False\"\n",
    "        clause -= remove\n",
    "                \n",
    "    #have all clauses been satisfied?    \n",
    "    if all([Sat in clause for clause in clauses]):\n",
    "        global sat_model      \n",
    "        sat_model = model\n",
    "        return True\n",
    "\n",
    "    \n",
    "    if symbols: \n",
    "        new_sym = symbols.pop(0)\n",
    "        model[new_sym.name] = True\n",
    "        truth_val1 = DPLL(deepcopy(clauses), deepcopy(symbols), model)\n",
    "        model[new_sym.name] = False \n",
    "        truth_val2 = DPLL(deepcopy(clauses), deepcopy(symbols), model)\n",
    "        \n",
    "        return truth_val1 or truth_val2\n",
    "    \n",
    "    #by this point exhaustive search failed, model is not satisfiable\n",
    "    return False\n",
    "    \n",
    "    \n",
    "\n",
    "def DPLLSatisfiable(KB):\n",
    "    #extract all symbols. We want to have each symbol once \n",
    "    symbols = {}\n",
    "    for clause in KB:\n",
    "        for sym in clause:\n",
    "            if sym in symbols: symbols[sym] += 1                \n",
    "            else: symbols[sym] = 1\n",
    "    #sorting symbols by frequency\n",
    "    symbols = sorted([ (key, count) for key, count in symbols.items()], reverse = True, key= itemgetter(1) )\n",
    "    symbols = [pair[0] for pair in symbols]\n",
    "    \n",
    "    \n",
    "    sat = DPLL(KB, list(symbols), {})\n",
    "    if sat:\n",
    "        # all literals in KB\n",
    "        for symbol in set().union(*KB):\n",
    "            if symbol.name not in sat_model:\n",
    "                sat_model[symbol.name] = \"Free\"\n",
    "            else:\n",
    "                sat_model[symbol.name] = str(sat_model[symbol.name])\n",
    "\n",
    "        return sat, sat_model  \n",
    "    return sat    \n",
    "        "
   ]
  },
  {
   "cell_type": "markdown",
   "metadata": {},
   "source": [
    "S1: A ⇔ (B ∨ E).\n",
    "\n",
    "S2: E ⇒ D.\n",
    "\n",
    "S3: C ∧ F ⇒ ¬B.\n",
    "\n",
    "S4: E ⇒ B.\n",
    "\n",
    "S5: B ⇒ F.\n",
    "\n",
    "S6: B ⇒ C\n",
    "\n",
    "Writing this in CNF:\n",
    "\n",
    "(A ⇔ (B ∨ E)) ∧ (E ⇒ D) ∧ (C ∧ F ⇒ ¬B) ∧ (E ⇒ B) ∧ (B ⇒ F) ∧ (B ⇒ C)\n",
    "\n",
    "(A ⇒ B ∨ E ) ∧ (B ∨ E ⇒ A) ∧ (-E ∨ D) ∧ (-C ∨ -F ∨ -B) ∧ (-E ∨ B) ∧ (-B ∨ F) ∧ (-B ∨ C)"
   ]
  },
  {
   "cell_type": "code",
   "execution_count": 122,
   "metadata": {
    "collapsed": false
   },
   "outputs": [],
   "source": [
    "A = Literal('A')\n",
    "B = Literal('B')\n",
    "C = Literal('C')\n",
    "D = Literal('D')\n",
    "E = Literal('E')\n",
    "F = Literal('F')\n",
    "\n",
    "KB = [{-A, B, E}, {-B, A}, {-E, A}, {-E, D}, \n",
    "      {-C, -F, -B}, {-E, B}, {-B, F}, {-B, C}]"
   ]
  },
  {
   "cell_type": "code",
   "execution_count": 123,
   "metadata": {
    "collapsed": false
   },
   "outputs": [
    {
     "data": {
      "text/plain": [
       "(True,\n",
       " {'A': 'False',\n",
       "  'B': 'False',\n",
       "  'C': 'False',\n",
       "  'D': 'Free',\n",
       "  'E': 'False',\n",
       "  'F': 'False'})"
      ]
     },
     "execution_count": 123,
     "metadata": {},
     "output_type": "execute_result"
    }
   ],
   "source": [
    "DPLLSatisfiable(KB)"
   ]
  },
  {
   "cell_type": "code",
   "execution_count": null,
   "metadata": {
    "collapsed": true
   },
   "outputs": [],
   "source": []
  }
 ],
 "metadata": {
  "kernelspec": {
   "display_name": "Python 2",
   "language": "python",
   "name": "python2"
  },
  "language_info": {
   "codemirror_mode": {
    "name": "ipython",
    "version": 2
   },
   "file_extension": ".py",
   "mimetype": "text/x-python",
   "name": "python",
   "nbconvert_exporter": "python",
   "pygments_lexer": "ipython2",
   "version": "2.7.10"
  }
 },
 "nbformat": 4,
 "nbformat_minor": 1
}
