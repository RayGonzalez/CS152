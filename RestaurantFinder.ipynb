{
 "cells": [
  {
   "cell_type": "code",
   "execution_count": 1,
   "metadata": {
    "collapsed": false,
    "scrolled": true
   },
   "outputs": [
    {
     "name": "stdout",
     "output_type": "stream",
     "text": [
      "Enter Cuisineseafood\n",
      "Enter Payment (credit, cash, paytm)cash\n",
      "Enter maximum average price100000\n",
      "bawarchi\n",
      "mainland_china\n"
     ]
    }
   ],
   "source": [
    "from pyswip import Prolog, Query, Variable, Functor\n",
    "from pyswip.easy import *\n",
    "\n",
    "\n",
    "KB_Ray = \"\"\" \n",
    "% Enter your KB below this line:\n",
    "\n",
    "pick_restaurant(bawarchi) :-  memberOf(Cuisine , [seafood, hyderabadi]), cuisine(Cuisine), memberOf(Pay , [credit,cash]), payment(Pay), price(Price), smallerThan(800, Price). \n",
    "\n",
    "pick_restaurant(pista_house) :- memberOf(Cuisine , [indian, hyderabadi]), cuisine(Cuisine), memberOf(Pay , [credit,cash,paytm]), payment(Pay), price(Price), smallerThan(1200, Price). \n",
    "\n",
    "pick_restaurant(mainland_china) :- memberOf(Cuisine , [chinese, seafood]), cuisine(Cuisine), memberOf(Pay , [credit,cash,paytm]), payment(Pay), price(Price), smallerThan(1200, Price). \n",
    "\n",
    "memberOf(X, [Y|Ys]) :- X = Y ; memberOf(X, Ys). \n",
    "smallerThan(X,Y) :- X =< Y.\n",
    "\"\"\"\n",
    "\n",
    "with open(\"KB_Ray.pl\", \"w\") as text_file:\n",
    "    text_file.write(KB_Ray)\n",
    "# The code here will ask the user for input based on the askables\n",
    "# It will check if the answer is known first\n",
    "\n",
    "\n",
    "\n",
    "prolog = Prolog() # Global handle to interpreter\n",
    "\n",
    "retractall = Functor(\"retractall\")\n",
    "known = Functor(\"known\",3)\n",
    "\n",
    "# Define foreign functions for getting user input and writing to the screen\n",
    "def write_py(X):\n",
    "    print(str(X))\n",
    "    sys.stdout.flush()\n",
    "    return True\n",
    "\n",
    "def read_py(A,V,Y):\n",
    "    Y.unify(raw_input(str(A) + \" is \" + str(V) + \"?\"))\n",
    "    return True\n",
    "\n",
    "\n",
    "write_py.arity = 1\n",
    "read_py.arity = 3\n",
    "\n",
    "registerForeign(read_py)\n",
    "registerForeign(write_py)\n",
    "\n",
    "\n",
    "request = \"pick_restaurant(X)\"\n",
    "#request = \"findall(X, pick_restaurant(X), Bag)\"\n",
    "\n",
    "\n",
    "prolog.consult(\"KB_Ray.pl\") # open the KB\n",
    "#call(retractall(known))\n",
    "\n",
    "pick_restaurant = Functor(\"pick_restaurant\",1)\n",
    "\n",
    "Cuisine = input(\"Enter Cuisines\")\n",
    "#Cuisine = Cuisine.split()\n",
    "prolog.asserta(\"cuisine(\" + Cuisine + \")\")\n",
    "#call(known())\n",
    "Pay = input(\"Enter Payment (credit, cash, paytm)\")\n",
    "prolog.asserta(\"payment(\"+ Pay + \")\")\n",
    "Price = input(\"Enter maximum average price\")\n",
    "prolog.asserta(\"price(\"+ Price + \")\")\n",
    "\n",
    "ans = False\n",
    "X = Variable()\n",
    "q = Query(pick_restaurant(X))\n",
    "while q.nextSolution():\n",
    "    ans = True\n",
    "    print(X.value)\n",
    "if not ans: print(\"Shit mate! no food for ya\")"
   ]
  },
  {
   "cell_type": "code",
   "execution_count": 2,
   "metadata": {
    "collapsed": false
   },
   "outputs": [
    {
     "data": {
      "text/plain": [
       "['seafood,', 'hyderabadi,', 'chinese']"
      ]
     },
     "execution_count": 2,
     "metadata": {},
     "output_type": "execute_result"
    }
   ],
   "source": [
    "cuisines = \"seafood, hyderabadi, chinese\"\n",
    "cuisines.split()"
   ]
  },
  {
   "cell_type": "code",
   "execution_count": 46,
   "metadata": {
    "collapsed": false
   },
   "outputs": [],
   "source": [
    "from Tkinter import *\n",
    "\n",
    "def show_values():\n",
    "    print (chinese.get(), hyderabadi.get(), indian.get(), seafood.get())\n",
    "\n",
    "master = Tk()\n",
    "master.title(\"Minerva Hyderabad Restaurant Selector\")\n",
    "\n",
    "\n",
    "\n",
    "##Make some spacing on the left\n",
    "for row in range(13):\n",
    "    Label(master, text=\"\").grid(row= row, column = 1, sticky=W)\n",
    "\n",
    "Label(master, text=\" Minerva Hyderabad Restaurant Selector\").grid(row=0, sticky=W, column = 2)    \n",
    "\n",
    "Label(master, text=\"\\t\\t\").grid(row=1, sticky=W)\n",
    "price = DoubleVar()\n",
    "Scale(master, label = \"Avg Price (Rupees per person)\", from_= 100, to = 1000, \n",
    "      variable = price, orient = HORIZONTAL, length = 300).grid(row = 2,  column = 2)\n",
    "\n",
    "Label(master, text=\"\\t\\t\").grid(row=2, sticky=W)\n",
    "distance = DoubleVar()\n",
    "Scale(master, label = \"Distance from Res Hall (km)\", from_= 0.5, to = 10, \n",
    "      variable = distance, resolution =   0.1, orient = HORIZONTAL, length = 300).grid(row = 3, column = 2)\n",
    "\n",
    "Label(master, text=\"\\t\\t\").grid(row=4, sticky=W)\n",
    "rating = DoubleVar()\n",
    "Scale(master, label = \"Minimum restaurant rating (0 to 5)\", from_= 0.0, to = 5.0, \n",
    "      variable = rating, resolution =   0.1, orient = HORIZONTAL, length = 300).grid(row = 5, column = 2)\n",
    "\n",
    "\n",
    "Label(master, text=\"\\t\\t\").grid(row=6, sticky=W)\n",
    "Label(master, text=\"Select Cuisines: \").grid(row=7, sticky=W, column = 2)\n",
    "biryani = IntVar()\n",
    "Checkbutton(master, text=\"biryani\", variable= biryani).grid(row=8, sticky=W, column = 2)\n",
    "chinese = IntVar()\n",
    "Checkbutton(master, text=\"chinese\", variable= chinese).grid(row=9, sticky=W, column = 2)\n",
    "hyderabadi = IntVar()\n",
    "Checkbutton(master, text=\"hyderabadi\", variable= hyderabadi).grid(row=10, sticky=W, column = 2)\n",
    "indian = IntVar()\n",
    "Checkbutton(master, text=\"indian\", variable= indian).grid(row=11, sticky=W, column = 2)\n",
    "north_indian = IntVar()\n",
    "Checkbutton(master, text=\"north_indian\", variable= north_indian).grid(row=12, sticky=W, column = 2)\n",
    "seafood = IntVar()\n",
    "Checkbutton(master, text=\"seafood\", variable= seafood).grid(row=13, sticky=W, column = 2)\n",
    "\n",
    "\n",
    "Label(master, text=\"Payment Method:\").grid(row=7, column = 3, sticky=W)\n",
    "cash = IntVar()\n",
    "Checkbutton(master, text=\"cash\", variable= cash).grid(row=8, column = 3, sticky=W)\n",
    "credit = IntVar()\n",
    "Checkbutton(master, text=\"credit\", variable= credit).grid(row=9, column = 3, sticky=W)\n",
    "paytm = IntVar()\n",
    "Checkbutton(master, text=\"paytm\", variable= paytm).grid(row=10, column = 3, sticky=W)\n",
    "\n",
    "\n",
    "\n",
    "Button(master, text='GIVE ME FOOD', command=show_values).grid(row= 15, pady=4, column = 2)\n",
    "\n",
    "\n",
    "\n",
    "mainloop()\n",
    "\n"
   ]
  },
  {
   "cell_type": "code",
   "execution_count": null,
   "metadata": {
    "collapsed": true
   },
   "outputs": [],
   "source": []
  }
 ],
 "metadata": {
  "kernelspec": {
   "display_name": "Python 2",
   "language": "python",
   "name": "python2"
  },
  "language_info": {
   "codemirror_mode": {
    "name": "ipython",
    "version": 2
   },
   "file_extension": ".py",
   "mimetype": "text/x-python",
   "name": "python",
   "nbconvert_exporter": "python",
   "pygments_lexer": "ipython2",
   "version": "2.7.10"
  }
 },
 "nbformat": 4,
 "nbformat_minor": 2
}
