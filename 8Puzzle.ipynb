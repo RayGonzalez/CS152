{
 "cells": [
  {
   "cell_type": "code",
   "execution_count": 2,
   "metadata": {
    "collapsed": false
   },
   "outputs": [],
   "source": [
    "# Solution: [[0,1,2],[3,4,5],[6,7,8]]\n",
    "class PuzzleNode:\n",
    "    \n",
    "    def __init__(self, state, f, g, parent = None):\n",
    "        \"\"\"State is the full grid defining the node.\n",
    "        h_cost is the heuristic cost computed with the heuristic function in the A* solver\n",
    "        \"\"\"\n",
    "        self.state = state\n",
    "        self.f = f\n",
    "        self.g = g\n",
    "        self.parent = parent\n",
    "        self.pruned = False\n",
    "        \n",
    "    \n",
    "    def coord_blank(self):\n",
    "    #the solver will use this to add states to the frontier\n",
    "        for y in range(len(self.state)):\n",
    "            for x in range(len(self.state[y])):\n",
    "                if self.state[y][x] == 0: return y, x    \n",
    "               \n",
    "    \n",
    "    def pos_blank(self):\n",
    "        # Get current position of blank tile\n",
    "        for n, row in enumerate(self.state): \n",
    "            if 0 in row: \n",
    "                blank_y = n\n",
    "                break\n",
    "        blank_x = self.state[blank_y].index(0)\n",
    "        return blank_y, blank_x    \n",
    "    \n",
    " \n",
    "    # Comparison function based on f cost\n",
    "    def __lt__(self,other):\n",
    "        return self.f < other.f\n",
    "\n",
    "    def __str__(self):\n",
    "        return \"\\n\".join([\" \".join([str(x) for x in row]) for row in self.state])    \n",
    "                                               "
   ]
  },
  {
   "cell_type": "code",
   "execution_count": 3,
   "metadata": {
    "collapsed": false
   },
   "outputs": [],
   "source": [
    "## Heuristics\n",
    "\n",
    "#uniform cost search behavior\n",
    "def hnull(state): return 0\n",
    "\n",
    "\n",
    "## Count number of misplaced tiles\n",
    "def misplaced_tiles(state):\n",
    "    n = len(state)\n",
    "    val = 0\n",
    "    for row_ind in range(n):\n",
    "        for col_ind in range(n):\n",
    "            if state[row_ind][col_ind] != row_ind*n + col_ind: val+=1\n",
    "    return val\n",
    "\n",
    "#Manhattan distance for every tile\n",
    "#On every move we move two tiles. In the best case scenario, this move gets both tiles closer to their destination.\n",
    "#Hence, we will take the manhattan distance for each tile, and divide it by 2.\n",
    "\n",
    "def manhattan_distance(state, goal = None):\n",
    "    n = len(state)\n",
    "    dist = 0    \n",
    "    for row_ind, row in enumerate(state):\n",
    "        for col_ind, item in enumerate(row):            \n",
    "            row_ind_goal = int(item/n)\n",
    "            col_ind_goal = item%n\n",
    "            dist += abs(row_ind_goal - row_ind) + abs(col_ind_goal - col_ind)\n",
    "    return dist / 2.0\n",
    "\n",
    "heuristics = [misplaced_tiles, manhattan_distance,  hnull]"
   ]
  },
  {
   "cell_type": "code",
   "execution_count": 6,
   "metadata": {
    "collapsed": false
   },
   "outputs": [],
   "source": [
    "from queue import PriorityQueue\n",
    "\n",
    "def solvePuzzle(n, state, heuristic, prnt = False):\n",
    "    \"\"\"\n",
    "    INPUT ARGUMENTS\n",
    "    —n - the puzzle dimension (i.e. n x n board)\n",
    "    —state - the starting (scrambled) state of the puzzle, provided as a list of lists, with the blank space represented by the number 0. For example, for n=3, we could have state =[[7 2 4],[5 0 6],[8 3 1]] as in the image shown previously.\n",
    "    —heuristic - a handle to a heuristic function (more details in the next step)\n",
    "    —prnt - a boolean value that indicates whether or not to print the solution\n",
    "    OUTPUT ARGUMENTS\n",
    "    —steps - the number of steps required to reach the goal state from the initial state\n",
    "    —frontierSize - the maximum size of the frontier during the search\n",
    "    —err - an error code (-1 for bad input size or numbers)\n",
    "    \"\"\"\n",
    "    \n",
    "    #Check dimensions and numbers from 0 to n exactly once\n",
    "    #For duplicates, we can simply check if every number from 0 to n appears (if they are appear and size is right,\n",
    "    # then there are no duplicates). \n",
    "    if (len(state) != n or not all([len(state[i]) == n for i in range(n)])  \n",
    "        or not all([any(i in row for row in state) for i in range(n)])): return 0,0,-1\n",
    "    \n",
    "    \n",
    "    start_node = PuzzleNode(state, heuristic(state), 0)\n",
    "    \n",
    "    \n",
    "    #Define goal state (assuming grid is always square and solution is to write numbers in ascending order)\n",
    "    goal = [[row_ind*n + col_ind for col_ind in range(n)] for row_ind in range(n)]\n",
    "    \n",
    "    # Dictionary with current cost to reach all visited nodes\n",
    "    costs_db = {str(state): start_node}\n",
    "\n",
    "    # Frontier, stored as a Priority Queue to maintain ordering\n",
    "    frontier = PriorityQueue()\n",
    "    frontier.put(start_node)\n",
    "\n",
    "    # Begin A* Search\n",
    "    expansion_counter = 0\n",
    "\n",
    "    while not frontier.empty():\n",
    "        # Take the next available node from the priority queue\n",
    "        cur_node = frontier.get()\n",
    "\n",
    "        if cur_node.pruned: continue # Skip if this node has been marked for removal\n",
    "            \n",
    "        # Check if we are at the goal\n",
    "        if cur_node.state == goal: \n",
    "            print \"goal\"\n",
    "            break\n",
    "            \n",
    "        #Get coordinates of blank (0) tile:\n",
    "        y_blank, x_blank = cur_node.coord_blank()\n",
    "        \n",
    "        #at most 4 possible swaps\n",
    "        for dx, dy in [(-1,0),(1,0),(0,1),(0,-1)]:\n",
    "            if y_blank + dy > 0 and y_blank + dy < n and x_blank + dx > 0 and x_blank + dx < n:\n",
    "               \n",
    "                '''\n",
    "                #swap tiles for the new state\n",
    "                m = cur_node.state[y_blank + dy][x_blank + dx]\n",
    "                next_state = [row[:] for row in cur_node.state]\n",
    "                next_state[y_blank + dy][x_blank + dx] = 0\n",
    "                next_state[y_blank][x_blank] = m\n",
    "                '''\n",
    "  \n",
    "                cache = cur_node.state[y_blank + dy][x_blank + dx]\n",
    "                next_state = [row[:] for row in cur_node.state] # deep copy\n",
    "                next_state[y_blank + dy][x_blank + dx] = 0\n",
    "                next_state[y_blank][x_blank] = cache\n",
    "\n",
    "                \n",
    "                #cost to get there from this parent\n",
    "                g = cur_node.g + 1\n",
    "                \n",
    "                #have we seen this state before? If yes, how long is the shortest path there?\n",
    "                if str(next_state) in costs_db:\n",
    "                    if costs_db[str(next_state)].g > g:\n",
    "                        costs_db[str(next_state)].pruned = True # Mark existing value for deletion from frontier\n",
    "                    else:\n",
    "                        continue # ignore this child, since a better path has already been found previously.            \n",
    "            \n",
    "                h = heuristic(next_state) # Heuristic cost from next node to goal\n",
    "                next_node = PuzzleNode(next_state, g + h, g, cur_node) # Create new node for child\n",
    "                frontier.put(next_node)\n",
    "                costs_db[str(next_state)] = next_node #Mark the node as explored    \n",
    "        expansion_counter = expansion_counter + 1\n",
    "\n",
    "        \n",
    "    if prnt:\n",
    "        optimal_path = [cur_node.state]\n",
    "        while cur_node.parent:\n",
    "            optimal_path.append((cur_node.parent).state)\n",
    "            cur_node = cur_node.parent\n",
    "        print(\"A* search completed in %d steps\\n\"% expansion_counter)\n",
    "        print(\"Optimal Path to Goal:\\n\")\n",
    "        for state in optimal_path[::-1]:\n",
    "            print(state)\n",
    "        print(\"Current frontier size: %d\"%frontier.qsize())            \n",
    "        \n",
    "    return expansion_counter, frontier.qsize(), 0"
   ]
  },
  {
   "cell_type": "code",
   "execution_count": 8,
   "metadata": {
    "collapsed": false
   },
   "outputs": [
    {
     "name": "stdout",
     "output_type": "stream",
     "text": [
      "[[5, 7, 6], [2, 4, 3], [8, 1, 0]]\n",
      "(12, 0, 0)\n",
      "(12, 0, 0)\n",
      "(12, 0, 0)\n",
      "[[7, 0, 8], [4, 6, 1], [5, 3, 2]]\n",
      "(13, 0, 0)\n",
      "(13, 0, 0)\n",
      "(13, 0, 0)\n",
      "[[2, 3, 7], [1, 8, 0], [6, 5, 4]]\n",
      "(12, 0, 0)\n",
      "(12, 0, 0)\n",
      "(12, 0, 0)\n",
      "0.00715279579163\n"
     ]
    }
   ],
   "source": [
    "import time\n",
    "\n",
    "start = time.time()\n",
    "for state in [[[5,7,6],[2,4,3],[8,1,0]], [[7,0,8],[4,6,1],[5,3,2]], \n",
    "              [[2,3,7],[1,8,0],[6,5,4]]]:\n",
    "    print(state)\n",
    "    for heuristic in heuristics:\n",
    "        print(solvePuzzle(len(state[0]), state, heuristic, False))\n",
    "print(time.time() - start)"
   ]
  },
  {
   "cell_type": "code",
   "execution_count": 7,
   "metadata": {
    "collapsed": false
   },
   "outputs": [
    {
     "name": "stdout",
     "output_type": "stream",
     "text": [
      "A* search completed in 12 steps\n",
      "\n",
      "Optimal Path to Goal:\n",
      "\n",
      "[[5, 7, 6], [2, 4, 3], [8, 1, 0]]\n",
      "[[5, 7, 6], [2, 4, 3], [8, 0, 1]]\n",
      "[[5, 7, 6], [2, 0, 3], [8, 4, 1]]\n",
      "[[5, 7, 6], [2, 3, 0], [8, 4, 1]]\n",
      "[[5, 7, 6], [2, 3, 1], [8, 4, 0]]\n",
      "[[5, 7, 6], [2, 3, 1], [8, 0, 4]]\n",
      "[[5, 7, 6], [2, 0, 1], [8, 3, 4]]\n",
      "Current frontier size: 0\n",
      "(12, 0, 0)\n"
     ]
    }
   ],
   "source": [
    "state = [[5,7,6],[2,4,3],[8,1,0]]\n",
    "print(solvePuzzle(len(state[0]), state, misplaced_tiles, True))"
   ]
  },
  {
   "cell_type": "code",
   "execution_count": 40,
   "metadata": {
    "collapsed": false
   },
   "outputs": [
    {
     "name": "stdout",
     "output_type": "stream",
     "text": [
      "A* search completed in 20 steps\n",
      "\n",
      "Optimal Path to Goal:\n",
      "\n",
      "[[7, 0, 8], [4, 6, 1], [5, 3, 2]]\n",
      "[[7, 6, 8], [4, 0, 1], [5, 3, 2]]\n",
      "[[7, 8, 0], [4, 0, 1], [5, 3, 2]]\n",
      "[[7, 0, 0], [4, 0, 1], [5, 3, 2]]\n",
      "Current frontier size: 0\n",
      "(20, 0, 0)\n"
     ]
    }
   ],
   "source": [
    "state = [[7,0,8],[4,6,1],[5,3,2]]\n",
    "print(solvePuzzle(len(state[0]), state, misplaced_tiles, True))"
   ]
  },
  {
   "cell_type": "code",
   "execution_count": null,
   "metadata": {
    "collapsed": true
   },
   "outputs": [],
   "source": []
  }
 ],
 "metadata": {
  "kernelspec": {
   "display_name": "Python 2",
   "language": "python",
   "name": "python2"
  },
  "language_info": {
   "codemirror_mode": {
    "name": "ipython",
    "version": 2
   },
   "file_extension": ".py",
   "mimetype": "text/x-python",
   "name": "python",
   "nbconvert_exporter": "python",
   "pygments_lexer": "ipython2",
   "version": "2.7.10"
  }
 },
 "nbformat": 4,
 "nbformat_minor": 1
}
