{
 "cells": [
  {
   "cell_type": "code",
   "execution_count": 3,
   "metadata": {
    "collapsed": false
   },
   "outputs": [
    {
     "ename": "ImportError",
     "evalue": "Could not find the SWI-Prolog library in this platform. If you are sure it is installed, please open an issue.",
     "output_type": "error",
     "traceback": [
      "\u001b[0;31m---------------------------------------------------------------------------\u001b[0m",
      "\u001b[0;31mImportError\u001b[0m                               Traceback (most recent call last)",
      "\u001b[0;32m<ipython-input-3-273c9f21d77c>\u001b[0m in \u001b[0;36m<module>\u001b[0;34m()\u001b[0m\n\u001b[0;32m----> 1\u001b[0;31m \u001b[0;32mfrom\u001b[0m \u001b[0mpyswip\u001b[0m \u001b[0;32mimport\u001b[0m \u001b[0mProlog\u001b[0m\u001b[0;34m,\u001b[0m \u001b[0mQuery\u001b[0m\u001b[0;34m,\u001b[0m \u001b[0mVariable\u001b[0m\u001b[0;34m,\u001b[0m \u001b[0mFunctor\u001b[0m\u001b[0;34m\u001b[0m\u001b[0m\n\u001b[0m\u001b[1;32m      2\u001b[0m \u001b[0;32mfrom\u001b[0m \u001b[0mpyswip\u001b[0m\u001b[0;34m.\u001b[0m\u001b[0measy\u001b[0m \u001b[0;32mimport\u001b[0m \u001b[0;34m*\u001b[0m\u001b[0;34m\u001b[0m\u001b[0m\n\u001b[1;32m      3\u001b[0m \u001b[0;34m\u001b[0m\u001b[0m\n\u001b[1;32m      4\u001b[0m \u001b[0;34m\u001b[0m\u001b[0m\n\u001b[1;32m      5\u001b[0m KB_Ray = \"\"\" \n",
      "\u001b[0;32m/Library/Frameworks/Python.framework/Versions/2.7/lib/python2.7/site-packages/pyswip/__init__.py\u001b[0m in \u001b[0;36m<module>\u001b[0;34m()\u001b[0m\n\u001b[1;32m     27\u001b[0m \u001b[0m__VERSION__\u001b[0m \u001b[0;34m=\u001b[0m \u001b[0;34m\"0.2.3\"\u001b[0m\u001b[0;34m\u001b[0m\u001b[0m\n\u001b[1;32m     28\u001b[0m \u001b[0;34m\u001b[0m\u001b[0m\n\u001b[0;32m---> 29\u001b[0;31m \u001b[0;32mfrom\u001b[0m \u001b[0mpyswip\u001b[0m\u001b[0;34m.\u001b[0m\u001b[0mprolog\u001b[0m \u001b[0;32mimport\u001b[0m \u001b[0mProlog\u001b[0m\u001b[0;34m\u001b[0m\u001b[0m\n\u001b[0m\u001b[1;32m     30\u001b[0m \u001b[0;32mfrom\u001b[0m \u001b[0mpyswip\u001b[0m\u001b[0;34m.\u001b[0m\u001b[0measy\u001b[0m \u001b[0;32mimport\u001b[0m \u001b[0;34m*\u001b[0m\u001b[0;34m\u001b[0m\u001b[0m\n",
      "\u001b[0;32m/Library/Frameworks/Python.framework/Versions/2.7/lib/python2.7/site-packages/pyswip/prolog.py\u001b[0m in \u001b[0;36m<module>\u001b[0;34m()\u001b[0m\n\u001b[1;32m     27\u001b[0m \u001b[0;32mimport\u001b[0m \u001b[0matexit\u001b[0m\u001b[0;34m\u001b[0m\u001b[0m\n\u001b[1;32m     28\u001b[0m \u001b[0;34m\u001b[0m\u001b[0m\n\u001b[0;32m---> 29\u001b[0;31m \u001b[0;32mfrom\u001b[0m \u001b[0mpyswip\u001b[0m\u001b[0;34m.\u001b[0m\u001b[0mcore\u001b[0m \u001b[0;32mimport\u001b[0m \u001b[0;34m*\u001b[0m\u001b[0;34m\u001b[0m\u001b[0m\n\u001b[0m\u001b[1;32m     30\u001b[0m \u001b[0;34m\u001b[0m\u001b[0m\n\u001b[1;32m     31\u001b[0m \u001b[0;34m\u001b[0m\u001b[0m\n",
      "\u001b[0;32m/Library/Frameworks/Python.framework/Versions/2.7/lib/python2.7/site-packages/pyswip/core.py\u001b[0m in \u001b[0;36m<module>\u001b[0;34m()\u001b[0m\n\u001b[1;32m    354\u001b[0m \u001b[0;31m# Find the path and resource file. SWI_HOME_DIR shall be treated as a constant\u001b[0m\u001b[0;34m\u001b[0m\u001b[0;34m\u001b[0m\u001b[0m\n\u001b[1;32m    355\u001b[0m \u001b[0;31m# by users of this module\u001b[0m\u001b[0;34m\u001b[0m\u001b[0;34m\u001b[0m\u001b[0m\n\u001b[0;32m--> 356\u001b[0;31m \u001b[0;34m(\u001b[0m\u001b[0m_path\u001b[0m\u001b[0;34m,\u001b[0m \u001b[0mSWI_HOME_DIR\u001b[0m\u001b[0;34m)\u001b[0m \u001b[0;34m=\u001b[0m \u001b[0m_findSwipl\u001b[0m\u001b[0;34m(\u001b[0m\u001b[0;34m)\u001b[0m\u001b[0;34m\u001b[0m\u001b[0m\n\u001b[0m\u001b[1;32m    357\u001b[0m \u001b[0m_fixWindowsPath\u001b[0m\u001b[0;34m(\u001b[0m\u001b[0m_path\u001b[0m\u001b[0;34m)\u001b[0m\u001b[0;34m\u001b[0m\u001b[0m\n\u001b[1;32m    358\u001b[0m \u001b[0;34m\u001b[0m\u001b[0m\n",
      "\u001b[0;32m/Library/Frameworks/Python.framework/Versions/2.7/lib/python2.7/site-packages/pyswip/core.py\u001b[0m in \u001b[0;36m_findSwipl\u001b[0;34m()\u001b[0m\n\u001b[1;32m    317\u001b[0m     \u001b[0;31m# This is a catch all raise\u001b[0m\u001b[0;34m\u001b[0m\u001b[0;34m\u001b[0m\u001b[0m\n\u001b[1;32m    318\u001b[0m     \u001b[0;32mif\u001b[0m \u001b[0mpath\u001b[0m \u001b[0;32mis\u001b[0m \u001b[0mNone\u001b[0m\u001b[0;34m:\u001b[0m\u001b[0;34m\u001b[0m\u001b[0m\n\u001b[0;32m--> 319\u001b[0;31m         raise ImportError('Could not find the SWI-Prolog library in this '\n\u001b[0m\u001b[1;32m    320\u001b[0m                           \u001b[0;34m'platform. If you are sure it is installed, please '\u001b[0m\u001b[0;34m\u001b[0m\u001b[0m\n\u001b[1;32m    321\u001b[0m                           'open an issue.')\n",
      "\u001b[0;31mImportError\u001b[0m: Could not find the SWI-Prolog library in this platform. If you are sure it is installed, please open an issue."
     ]
    }
   ],
   "source": [
    "from pyswip import Prolog, Query, Variable, Functor\n",
    "from pyswip.easy import *\n",
    "\n",
    "\n",
    "KB_Ray = \"\"\" \n",
    "% Enter your KB below this line:\n",
    "\n",
    "pick_restaurant(bawarchi) :-  memberOf(Cuisine , [seafood, hyderabadi]), cuisine(Cuisine), memberOf(Pay , [credit,cash]), payment(Pay), price(Price), smallerThan(800, Price). \n",
    "\n",
    "pick_restaurant(pista_house) :- memberOf(Cuisine , [indian, hyderabadi]), cuisine(Cuisine), memberOf(Pay , [credit,cash,paytm]), payment(Pay), price(Price), smallerThan(1200, Price). \n",
    "\n",
    "pick_restaurant(mainland_china) :- memberOf(Cuisine , [chinese, seafood]), cuisine(Cuisine), memberOf(Pay , [credit,cash,paytm]), payment(Pay), price(Price), smallerThan(1200, Price). \n",
    "\n",
    "memberOf(X, [Y|Ys]) :- X = Y ; memberOf(X, Ys). \n",
    "smallerThan(X,Y) :- X =< Y.\n",
    "\"\"\"\n",
    "\n",
    "with open(\"KB_Ray.pl\", \"w\") as text_file:\n",
    "    text_file.write(KB_Ray)\n",
    "# The code here will ask the user for input based on the askables\n",
    "# It will check if the answer is known first\n",
    "\n",
    "\n",
    "\n",
    "prolog = Prolog() # Global handle to interpreter\n",
    "\n",
    "retractall = Functor(\"retractall\")\n",
    "known = Functor(\"known\",3)\n",
    "\n",
    "# Define foreign functions for getting user input and writing to the screen\n",
    "def write_py(X):\n",
    "    print(str(X))\n",
    "    sys.stdout.flush()\n",
    "    return True\n",
    "\n",
    "def read_py(A,V,Y):\n",
    "    Y.unify(raw_input(str(A) + \" is \" + str(V) + \"?\"))\n",
    "    return True\n",
    "\n",
    "\n",
    "write_py.arity = 1\n",
    "read_py.arity = 3\n",
    "\n",
    "registerForeign(read_py)\n",
    "registerForeign(write_py)\n",
    "\n",
    "\n",
    "request = \"pick_restaurant(X)\"\n",
    "#request = \"findall(X, pick_restaurant(X), Bag)\"\n",
    "\n",
    "\n",
    "prolog.consult(\"KB_Ray.pl\") # open the KB\n",
    "#call(retractall(known))\n",
    "\n",
    "pick_restaurant = Functor(\"pick_restaurant\",1)\n",
    "\n",
    "Cuisine = raw_input(\"Enter Cuisine\")\n",
    "prolog.asserta(\"cuisine(\" + Cuisine + \")\")\n",
    "#call(known())\n",
    "Pay = raw_input(\"Enter Payment (credit, cash, paytm)\")\n",
    "prolog.asserta(\"payment(\"+ Pay + \")\")\n",
    "Price = raw_input(\"Enter maximum average price\")\n",
    "prolog.asserta(\"price(\"+ Price + \")\")\n",
    "\n",
    "ans = False\n",
    "X = Variable()\n",
    "q = Query(pick_restaurant(X))\n",
    "while q.nextSolution():\n",
    "    ans = True\n",
    "    print X.value\n",
    "if not ans: print \"Shit mate! no food for ya\""
   ]
  },
  {
   "cell_type": "code",
   "execution_count": 7,
   "metadata": {
    "collapsed": false
   },
   "outputs": [],
   "source": [
    "from Tkinter import *\n",
    "\n",
    "def show_values():\n",
    "    print (w1.get(), w2.get())\n",
    "\n",
    "master = Tk()\n",
    "w1 = Scale(master, label = \"Avg Cost\",from_=100, to=2000, orient=HORIZONTAL, length = 300)\n",
    "w1.pack()\n",
    "#Button(master, text='Quit', command=master.quit).grid(row=3, column=0, sticky=W, pady=4)\n",
    "Button(master, text='Show', command=show_values).pack()\n",
    "\n",
    "\n",
    "\n",
    "mainloop()\n",
    "\n"
   ]
  },
  {
   "cell_type": "code",
   "execution_count": null,
   "metadata": {
    "collapsed": true
   },
   "outputs": [],
   "source": []
  }
 ],
 "metadata": {
  "kernelspec": {
   "display_name": "Python 2",
   "language": "python",
   "name": "python2"
  },
  "language_info": {
   "codemirror_mode": {
    "name": "ipython",
    "version": 2
   },
   "file_extension": ".py",
   "mimetype": "text/x-python",
   "name": "python",
   "nbconvert_exporter": "python",
   "pygments_lexer": "ipython2",
   "version": "2.7.10"
  }
 },
 "nbformat": 4,
 "nbformat_minor": 2
}
